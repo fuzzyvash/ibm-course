{
 "cells": [
  {
   "cell_type": "markdown",
   "metadata": {},
   "source": [
    "# Data science and tools course IBM"
   ]
  },
  {
   "cell_type": "markdown",
   "metadata": {},
   "source": [
    "## Introduction: \n",
    "In this  notebook you have a sumarize about topics learned in the course, enjoy it."
   ]
  },
  {
   "cell_type": "markdown",
   "metadata": {},
   "source": [
    "## List of popular languages in data science:\n",
    "* Python\n",
    "* R\n",
    "* Scala\n",
    "* SQL\n",
    "* Java\n",
    "* Javascript\n",
    "* Julia\n",
    "* C++\n",
    "* C\n",
    "\n"
   ]
  },
  {
   "cell_type": "markdown",
   "metadata": {},
   "source": [
    "## List of popular libraries used for data science:\n",
    "* Pandas\n",
    "* Tensor flow\n",
    "* Mathplotlib\n",
    "* Keras\n",
    "* Numpy\n",
    "* Seaborn\n",
    "* SckitLearn\n",
    "* PyTorch\n",
    "* Apache Spark"
   ]
  },
  {
   "cell_type": "markdown",
   "metadata": {},
   "source": [
    "## List of popular tools used for data science:\n",
    "\n",
    "| Tools | Description|\n",
    "| --- | --- |\n",
    "| Anaconda |  Is an open-source distribution of the Python and R programming languages for data science. | \n",
    "| Jupiter | Is an interactive web application for creating and sharing computational documents. |\n",
    "| Github | Is a web-based interface that uses Git, the open source version control software. | \n",
    "| Apache Spark | Is an open-source, distributed processing system used for big data workloads. | \n",
    "| Tensor flow | Is an open source framework developed by Google researchers to run machine learning| "
   ]
  },
  {
   "cell_type": "markdown",
   "metadata": {},
   "source": [
    "## Some examples of arithmetic expressions in python:\n",
    "* Addition: 2 + 2 = 4 \n",
    "* Subtraction: 8 - 7 = 1\n",
    "* Multiplication: 5 * 2 = 10\n",
    "* Power: 10 ** 2 = 100"
   ]
  },
  {
   "cell_type": "code",
   "execution_count": 24,
   "metadata": {},
   "outputs": [
    {
     "data": {
      "text/plain": [
       "11"
      ]
     },
     "execution_count": 24,
     "metadata": {},
     "output_type": "execute_result"
    }
   ],
   "source": [
    "#Addition\n",
    "3 + 8\n"
   ]
  },
  {
   "cell_type": "code",
   "execution_count": 25,
   "metadata": {},
   "outputs": [
    {
     "data": {
      "text/plain": [
       "25"
      ]
     },
     "execution_count": 25,
     "metadata": {},
     "output_type": "execute_result"
    }
   ],
   "source": [
    "#Multiplication\n",
    "5 ** 2 "
   ]
  },
  {
   "cell_type": "code",
   "execution_count": 26,
   "metadata": {},
   "outputs": [
    {
     "name": "stdout",
     "output_type": "stream",
     "text": [
      "Number of hours is: 3.0\n"
     ]
    }
   ],
   "source": [
    "#Program that convert minutes in hours\n",
    "Numberofminutes = 180\n",
    "MinutesInHour =60\n",
    "Result= Numberofminutes/MinutesInHour\n",
    "print(f\"Number of hours is: {Result}\")"
   ]
  },
  {
   "cell_type": "markdown",
   "metadata": {},
   "source": [
    "## Objectives:\n",
    "* Learn about data science\n",
    "* Learn about python and libraries\n",
    "* Learn about Jupiter environment\n",
    "* Learn about basic maths"
   ]
  },
  {
   "cell_type": "markdown",
   "metadata": {},
   "source": [
    "## Author:\n",
    "### Willian Lozano"
   ]
  }
 ],
 "metadata": {
  "kernelspec": {
   "display_name": "Python 3",
   "language": "python",
   "name": "python3"
  },
  "language_info": {
   "codemirror_mode": {
    "name": "ipython",
    "version": 3
   },
   "file_extension": ".py",
   "mimetype": "text/x-python",
   "name": "python",
   "nbconvert_exporter": "python",
   "pygments_lexer": "ipython3",
   "version": "3.8.5"
  }
 },
 "nbformat": 4,
 "nbformat_minor": 4
}
